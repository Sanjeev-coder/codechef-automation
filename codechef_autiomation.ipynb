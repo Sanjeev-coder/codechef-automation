{
 "cells": [
  {
   "cell_type": "markdown",
   "id": "c81d8b11",
   "metadata": {},
   "source": [
    "# web automation using selenium "
   ]
  },
  {
   "cell_type": "code",
   "execution_count": null,
   "id": "28c50f78",
   "metadata": {},
   "outputs": [],
   "source": [
    "from selenium import wedriver"
   ]
  },
  {
   "cell_type": "code",
   "execution_count": null,
   "id": "eb43057b",
   "metadata": {},
   "outputs": [],
   "source": [
    "browser = webdriver.Chrome(\"\")"
   ]
  },
  {
   "cell_type": "code",
   "execution_count": null,
   "id": "59ae9792",
   "metadata": {},
   "outputs": [],
   "source": [
    "browser.get(\"www.codechef.com\")"
   ]
  },
  {
   "cell_type": "code",
   "execution_count": null,
   "id": "dd37702f",
   "metadata": {},
   "outputs": [],
   "source": [
    "username_element = browser.find_element_by_id(\"edit-name\")"
   ]
  },
  {
   "cell_type": "code",
   "execution_count": null,
   "id": "f925589d",
   "metadata": {},
   "outputs": [],
   "source": [
    "username_element.send_keys(\"rajasanjeevkaashyav@gmail.com\")"
   ]
  },
  {
   "cell_type": "code",
   "execution_count": null,
   "id": "ec80d3f5",
   "metadata": {},
   "outputs": [],
   "source": [
    "from getpass import getpass"
   ]
  },
  {
   "cell_type": "code",
   "execution_count": null,
   "id": "6dbd6a4f",
   "metadata": {},
   "outputs": [],
   "source": [
    "password_element.send_keys(getpass(\"Enter Password \"))"
   ]
  },
  {
   "cell_type": "code",
   "execution_count": null,
   "id": "2233acb1",
   "metadata": {},
   "outputs": [],
   "source": [
    "browser.find_element_by_id(\"edit-submit\").click()"
   ]
  },
  {
   "cell_type": "code",
   "execution_count": null,
   "id": "44d7981f",
   "metadata": {},
   "outputs": [],
   "source": [
    "browser.get(\"https://www.codechef.com/submit/TEST\") # this will search for submit page directly"
   ]
  },
  {
   "cell_type": "code",
   "execution_count": null,
   "id": "51070a87",
   "metadata": {},
   "outputs": [],
   "source": [
    "browser.find_element_by_id(\"edit_area_toggle_checkbox_edit-program\").click()  \n",
    "# clicking on toggle checkbox to toggle editior to get in edit mode"
   ]
  },
  {
   "cell_type": "code",
   "execution_count": null,
   "id": "5cfcf90b",
   "metadata": {},
   "outputs": [],
   "source": [
    "with open(\"automation_solution.txt\",'r') as f:         # this is for reading the code page\n",
    "    code = f.read()"
   ]
  },
  {
   "cell_type": "code",
   "execution_count": null,
   "id": "3ad46c28",
   "metadata": {},
   "outputs": [],
   "source": [
    "code    # lets see the code inside the txt file"
   ]
  },
  {
   "cell_type": "code",
   "execution_count": null,
   "id": "953a279f",
   "metadata": {},
   "outputs": [],
   "source": [
    "code_element = browser.find_element_by_id('edit-program')"
   ]
  },
  {
   "cell_type": "code",
   "execution_count": null,
   "id": "511b11d1",
   "metadata": {},
   "outputs": [],
   "source": [
    "code_element.send_keys(code)"
   ]
  },
  {
   "cell_type": "code",
   "execution_count": null,
   "id": "3de19c30",
   "metadata": {},
   "outputs": [],
   "source": [
    "browser.find_element_by_xpath(\"//*[@id=\"edit-language\"]/option[2]\")  \n",
    "# this is for choosing language for drowpdown. there was no id for that so using xpath"
   ]
  },
  {
   "cell_type": "code",
   "execution_count": null,
   "id": "e3fbb7b6",
   "metadata": {},
   "outputs": [],
   "source": [
    "browser.find_element_by_id(\"edit-submit\").click()"
   ]
  }
 ],
 "metadata": {
  "kernelspec": {
   "display_name": "Python 3",
   "language": "python",
   "name": "python3"
  },
  "language_info": {
   "codemirror_mode": {
    "name": "ipython",
    "version": 3
   },
   "file_extension": ".py",
   "mimetype": "text/x-python",
   "name": "python",
   "nbconvert_exporter": "python",
   "pygments_lexer": "ipython3",
   "version": "3.8.8"
  }
 },
 "nbformat": 4,
 "nbformat_minor": 5
}
